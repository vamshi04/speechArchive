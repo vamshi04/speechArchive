{
 "cells": [
  {
   "cell_type": "markdown",
   "metadata": {},
   "source": [
    "### Common Voice Data set"
   ]
  },
  {
   "cell_type": "code",
   "execution_count": 2,
   "metadata": {},
   "outputs": [],
   "source": [
    "import pandas as pd"
   ]
  },
  {
   "cell_type": "code",
   "execution_count": 4,
   "metadata": {},
   "outputs": [
    {
     "name": "stdout",
     "output_type": "stream",
     "text": [
      "<class 'pandas.core.frame.DataFrame'>\n",
      "Int64Index: 45678 entries, 127 to 995700\n",
      "Data columns (total 10 columns):\n",
      " #   Column      Non-Null Count  Dtype \n",
      "---  ------      --------------  ----- \n",
      " 0   client_id   45678 non-null  object\n",
      " 1   path        45678 non-null  object\n",
      " 2   sentence    45678 non-null  object\n",
      " 3   up_votes    45678 non-null  int64 \n",
      " 4   down_votes  45678 non-null  int64 \n",
      " 5   age         45574 non-null  object\n",
      " 6   gender      45602 non-null  object\n",
      " 7   accent      45678 non-null  object\n",
      " 8   locale      45678 non-null  object\n",
      " 9   segment     750 non-null    object\n",
      "dtypes: int64(2), object(8)\n",
      "memory usage: 3.8+ MB\n",
      "<class 'pandas.core.frame.DataFrame'>\n",
      "Int64Index: 264932 entries, 57 to 1064735\n",
      "Data columns (total 10 columns):\n",
      " #   Column      Non-Null Count   Dtype \n",
      "---  ------      --------------   ----- \n",
      " 0   client_id   264932 non-null  object\n",
      " 1   path        264932 non-null  object\n",
      " 2   sentence    264932 non-null  object\n",
      " 3   up_votes    264932 non-null  int64 \n",
      " 4   down_votes  264932 non-null  int64 \n",
      " 5   age         259070 non-null  object\n",
      " 6   gender      260951 non-null  object\n",
      " 7   accent      264932 non-null  object\n",
      " 8   locale      264932 non-null  object\n",
      " 9   segment     3100 non-null    object\n",
      "dtypes: int64(2), object(8)\n",
      "memory usage: 22.2+ MB\n"
     ]
    }
   ],
   "source": [
    "df = pd.read_csv(\"/home/vamshi/project/CV/CV/en/validated.tsv\", sep='\\t')\n",
    "indian = df[(df.accent =='indian')]\n",
    "indian.info()\n",
    "native = df[(df.accent =='us')]\n",
    "native.info()"
   ]
  },
  {
   "cell_type": "code",
   "execution_count": 5,
   "metadata": {},
   "outputs": [
    {
     "data": {
      "text/plain": [
       "array([nan, 'hongkong', 'us', 'england', 'african', 'indian', 'other',\n",
       "       'canada', 'australia', 'scotland', 'philippines', 'singapore',\n",
       "       'bermuda', 'newzealand', 'malaysia', 'ireland', 'wales',\n",
       "       'southatlandtic'], dtype=object)"
      ]
     },
     "execution_count": 5,
     "metadata": {},
     "output_type": "execute_result"
    }
   ],
   "source": [
    "# uniques accents:\n",
    "df['accent'].unique()"
   ]
  },
  {
   "cell_type": "code",
   "execution_count": null,
   "metadata": {},
   "outputs": [],
   "source": []
  },
  {
   "cell_type": "code",
   "execution_count": null,
   "metadata": {},
   "outputs": [],
   "source": []
  },
  {
   "cell_type": "code",
   "execution_count": null,
   "metadata": {},
   "outputs": [],
   "source": []
  },
  {
   "cell_type": "markdown",
   "metadata": {},
   "source": [
    "### SpeechArchive Data set"
   ]
  },
  {
   "cell_type": "code",
   "execution_count": 6,
   "metadata": {},
   "outputs": [
    {
     "name": "stdout",
     "output_type": "stream",
     "text": [
      "<class 'pandas.core.frame.DataFrame'>\n",
      "Int64Index: 59 entries, 20 to 2109\n",
      "Data columns (total 12 columns):\n",
      " #   Column           Non-Null Count  Dtype  \n",
      "---  ------           --------------  -----  \n",
      " 0   age              59 non-null     float64\n",
      " 1   age_onset        59 non-null     float64\n",
      " 2   birthplace       59 non-null     object \n",
      " 3   filename         59 non-null     object \n",
      " 4   native_language  59 non-null     object \n",
      " 5   sex              59 non-null     object \n",
      " 6   speakerid        59 non-null     int64  \n",
      " 7   country          59 non-null     object \n",
      " 8   file_missing?    59 non-null     bool   \n",
      " 9   Unnamed: 9       0 non-null      float64\n",
      " 10  Unnamed: 10      0 non-null      float64\n",
      " 11  Unnamed: 11      0 non-null      object \n",
      "dtypes: bool(1), float64(4), int64(1), object(6)\n",
      "memory usage: 5.6+ KB\n",
      "<class 'pandas.core.frame.DataFrame'>\n",
      "Int64Index: 579 entries, 363 to 941\n",
      "Data columns (total 12 columns):\n",
      " #   Column           Non-Null Count  Dtype  \n",
      "---  ------           --------------  -----  \n",
      " 0   age              579 non-null    float64\n",
      " 1   age_onset        579 non-null    float64\n",
      " 2   birthplace       579 non-null    object \n",
      " 3   filename         579 non-null    object \n",
      " 4   native_language  579 non-null    object \n",
      " 5   sex              579 non-null    object \n",
      " 6   speakerid        579 non-null    int64  \n",
      " 7   country          579 non-null    object \n",
      " 8   file_missing?    579 non-null    bool   \n",
      " 9   Unnamed: 9       0 non-null      float64\n",
      " 10  Unnamed: 10      0 non-null      float64\n",
      " 11  Unnamed: 11      0 non-null      object \n",
      "dtypes: bool(1), float64(4), int64(1), object(6)\n",
      "memory usage: 54.8+ KB\n"
     ]
    }
   ],
   "source": [
    "df2 = pd.read_csv(\"/home/vamshi/project/SpeechArchive/speakers_all.csv\")\n",
    "indian = df2[(df2.country =='india')]\n",
    "indian.info()\n",
    "native = df2[df2.native_language == 'english']\n",
    "native.info()\n"
   ]
  },
  {
   "cell_type": "code",
   "execution_count": 9,
   "metadata": {},
   "outputs": [
    {
     "data": {
      "text/plain": [
       "array(['senegal', 'cameroon', 'nigeria', 'haiti', 'usa', 'jamaica',\n",
       "       'liberia', 'nicaragua', 'south africa', 'india', 'sri lanka',\n",
       "       'switzerland', 'timor-leste', 'papua new guinea', 'ivory coast',\n",
       "       'ghana', 'kosovo', 'albania', 'morocco', 'ethiopia',\n",
       "       'saudi arabia', 'egypt', 'lebanon', 'qatar', 'tunisia', 'iraq',\n",
       "       'jordan', 'kuwait', 'syria', 'united arab emirates',\n",
       "       'israel (occupied territory)', 'israel', 'algeria', 'yemen',\n",
       "       'bahrain', 'libya', 'oman', 'uk', 'sudan', 'armenia', 'iran',\n",
       "       'republic of georgia', 'russia', 'azerbaijan', 'guinea', 'china',\n",
       "       'mali', 'spain', 'germany', 'belarus', 'bangladesh', 'zambia',\n",
       "       'bosnia and herzegovina', 'bulgaria', 'myanmar',\n",
       "       'northern mariana islands', 'chile', 'philippines', 'malawi',\n",
       "       'croatia', 'czech republic', 'denmark', 'afghanistan',\n",
       "       'netherlands', 'belgium', 'south korea', 'canada',\n",
       "       'us virgin islands', 'malaysia', 'australia', 'ireland', 'guyana',\n",
       "       'fiji', 'antigua and barbuda', 'panama', 'barbados', 'new zealand',\n",
       "       'singapore', 'isle of man', 'belize', 'bolivia', 'trinidad',\n",
       "       'virginia', 'the bahamas', 'italy', 'pakistan', 'estonia',\n",
       "       'equatorial guinea', 'faroe islands', 'finland', 'france',\n",
       "       'democratic republic of congo', 'andorra', 'portugal', 'gabon',\n",
       "       'burkina faso', 'martinique', 'uganda', 'honduras', 'austria',\n",
       "       'liechtenstein', 'greece', 'cyprus', 'kenya', 'taiwan', 'niger',\n",
       "       'laos', 'hungary', 'romania', 'iceland', 'togo', 'indonesia',\n",
       "       'japan', 'botswana', 'kazakhstan', 'cambodia', 'angola',\n",
       "       'kyrgyzstan', 'tanzania', 'sierra leone',\n",
       "       'federated states of micronesia', nan, 'latvia', 'lithuania',\n",
       "       'luxembourg', 'macedonia', 'madagascar', 'malta', 'mauritius',\n",
       "       'mongolia', 'namibia', 'nepal', 'norway', 'curacao', 'poland',\n",
       "       'brazil', 'mexico', 'peru', 'moldova', 'romanian', 'ukraine',\n",
       "       'burundi', 'uzbekistan', 'rwanda', 'solomon islands', 'chad',\n",
       "       'bosnia', 'serbia', 'montenegro', 'yugoslavia', 'lesotho',\n",
       "       'zimbabwe', 'sicily', 'slovak republic', 'slovakia', 'slovenia',\n",
       "       'somalia', 'venezuela', 'el salvador', 'colombia', 'cuba',\n",
       "       'ecuador', 'puerto rico', 'guatemala', 'uruguay', 'argentina',\n",
       "       'costa rica', 'dominican republic', 'sweden', 'tajikistan',\n",
       "       'thailand', 'tibet', 'eritrea', 'turkey', 'turkmenistan',\n",
       "       'vietnam', 'benin'], dtype=object)"
      ]
     },
     "execution_count": 9,
     "metadata": {},
     "output_type": "execute_result"
    }
   ],
   "source": [
    "df2['country'].unique()\n",
    "# df2['native_language'].unique()"
   ]
  },
  {
   "cell_type": "code",
   "execution_count": 12,
   "metadata": {},
   "outputs": [
    {
     "ename": "ImportError",
     "evalue": "cannot import name 'convert_mp_wav' from 'mp3towav' (/home/vamshi/LastSem/Pirple/mp3towav.py)",
     "output_type": "error",
     "traceback": [
      "\u001b[0;31m---------------------------------------------------------------------------\u001b[0m",
      "\u001b[0;31mImportError\u001b[0m                               Traceback (most recent call last)",
      "\u001b[0;32m<ipython-input-12-bb8b9115c17e>\u001b[0m in \u001b[0;36m<module>\u001b[0;34m\u001b[0m\n\u001b[1;32m      1\u001b[0m \u001b[0;31m## Convert mp3 to wav files --> already done\u001b[0m\u001b[0;34m\u001b[0m\u001b[0;34m\u001b[0m\u001b[0;34m\u001b[0m\u001b[0m\n\u001b[0;32m----> 2\u001b[0;31m \u001b[0;32mfrom\u001b[0m \u001b[0mmp3towav\u001b[0m \u001b[0;32mimport\u001b[0m \u001b[0mconvert_mp_wav\u001b[0m\u001b[0;34m\u001b[0m\u001b[0;34m\u001b[0m\u001b[0m\n\u001b[0m\u001b[1;32m      3\u001b[0m \u001b[0mmissing\u001b[0m \u001b[0;34m=\u001b[0m \u001b[0mdf2\u001b[0m\u001b[0;34m[\u001b[0m\u001b[0;34m\"filename\"\u001b[0m\u001b[0;34m]\u001b[0m\u001b[0;34m.\u001b[0m\u001b[0mapply\u001b[0m\u001b[0;34m(\u001b[0m\u001b[0mconvert_mp_wav\u001b[0m\u001b[0;34m)\u001b[0m\u001b[0;34m\u001b[0m\u001b[0;34m\u001b[0m\u001b[0m\n",
      "\u001b[0;31mImportError\u001b[0m: cannot import name 'convert_mp_wav' from 'mp3towav' (/home/vamshi/LastSem/Pirple/mp3towav.py)"
     ]
    }
   ],
   "source": [
    "## Convert mp3 to wav files --> already done\n",
    "from mp3towav import convert_mp3_wav\n",
    "missing = df2[\"filename\"].apply(convert_mp_wav)"
   ]
  },
  {
   "cell_type": "code",
   "execution_count": null,
   "metadata": {},
   "outputs": [],
   "source": []
  },
  {
   "cell_type": "code",
   "execution_count": null,
   "metadata": {},
   "outputs": [],
   "source": []
  },
  {
   "cell_type": "code",
   "execution_count": null,
   "metadata": {},
   "outputs": [],
   "source": []
  },
  {
   "cell_type": "code",
   "execution_count": null,
   "metadata": {},
   "outputs": [],
   "source": []
  },
  {
   "cell_type": "code",
   "execution_count": null,
   "metadata": {},
   "outputs": [],
   "source": []
  },
  {
   "cell_type": "code",
   "execution_count": null,
   "metadata": {},
   "outputs": [],
   "source": []
  },
  {
   "cell_type": "code",
   "execution_count": null,
   "metadata": {},
   "outputs": [],
   "source": []
  },
  {
   "cell_type": "code",
   "execution_count": null,
   "metadata": {},
   "outputs": [],
   "source": []
  }
 ],
 "metadata": {
  "kernelspec": {
   "display_name": "Python 3",
   "language": "python",
   "name": "python3"
  },
  "language_info": {
   "codemirror_mode": {
    "name": "ipython",
    "version": 3
   },
   "file_extension": ".py",
   "mimetype": "text/x-python",
   "name": "python",
   "nbconvert_exporter": "python",
   "pygments_lexer": "ipython3",
   "version": "3.8.3"
  }
 },
 "nbformat": 4,
 "nbformat_minor": 4
}
